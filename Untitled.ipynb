{
 "cells": [
  {
   "cell_type": "code",
   "execution_count": 10,
   "id": "cbf63127-5078-4ef7-9d20-69ae7d9a065a",
   "metadata": {},
   "outputs": [
    {
     "name": "stdout",
     "output_type": "stream",
     "text": [
      "Welcome to Our Insurance Portal. For Your Insurance Premium, Kindly Provide us Required Information\n",
      "All entries are in Capital letters\n",
      "Gender\n"
     ]
    },
    {
     "name": "stdin",
     "output_type": "stream",
     "text": [
      "M or F M\n"
     ]
    },
    {
     "name": "stdout",
     "output_type": "stream",
     "text": [
      "Date of Birth in range 1970 and 2000 Only\n"
     ]
    },
    {
     "name": "stdin",
     "output_type": "stream",
     "text": [
      "Year of Birth 1980\n"
     ]
    },
    {
     "name": "stdout",
     "output_type": "stream",
     "text": [
      "Do You Smoke, Please answer Yes or No\n"
     ]
    },
    {
     "name": "stdin",
     "output_type": "stream",
     "text": [
      "Yes or No No\n"
     ]
    }
   ],
   "source": [
    "'''\n",
    "Variables\n",
    "1. Gender\n",
    "2. Date Of Birth as DOB\n",
    "3. Smoking\n",
    "'''\n",
    "\n",
    "print ('Welcome to Our Insurance Portal. For Your Insurance Premium, Kindly Provide us Required Information')\n",
    "print(\"All entries are in Capital letters\")\n",
    "M='Male'\n",
    "f='Female'\n",
    "print(\"Gender\")\n",
    "Gender=input('M or F')\n",
    "print('Date of Birth in range 1970 and 2000 Only')\n",
    "DOB=input('Year of Birth')\n",
    "print(\"Do You Smoke, Please answer Yes or No\")\n",
    "Smoking=input('Yes or No')\n",
    "\n",
    "\n",
    "\n",
    "def insurance_Premium(Gender,DOB,Smoking)\n",
    "    if"
   ]
  }
 ],
 "metadata": {
  "kernelspec": {
   "display_name": "Python 3 (ipykernel)",
   "language": "python",
   "name": "python3"
  },
  "language_info": {
   "codemirror_mode": {
    "name": "ipython",
    "version": 3
   },
   "file_extension": ".py",
   "mimetype": "text/x-python",
   "name": "python",
   "nbconvert_exporter": "python",
   "pygments_lexer": "ipython3",
   "version": "3.11.7"
  }
 },
 "nbformat": 4,
 "nbformat_minor": 5
}
