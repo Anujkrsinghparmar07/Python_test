{
 "cells": [
  {
   "cell_type": "code",
   "execution_count": 30,
   "id": "cbf63127-5078-4ef7-9d20-69ae7d9a065a",
   "metadata": {},
   "outputs": [
    {
     "name": "stdout",
     "output_type": "stream",
     "text": [
      "Welcome to Our Insurance Portal. For Your Insurance Premium, Kindly Provide Us Required Information\n",
      "All entries are in capital letters\n",
      "Gender\n"
     ]
    },
    {
     "name": "stdin",
     "output_type": "stream",
     "text": [
      "M or F M\n"
     ]
    },
    {
     "name": "stdout",
     "output_type": "stream",
     "text": [
      "Date of Birth (in the range 1970 to 2000 only)\n"
     ]
    },
    {
     "name": "stdin",
     "output_type": "stream",
     "text": [
      "Year of Birth 1998\n"
     ]
    },
    {
     "name": "stdout",
     "output_type": "stream",
     "text": [
      "Do You Smoke? Please answer Yes or No\n"
     ]
    },
    {
     "name": "stdin",
     "output_type": "stream",
     "text": [
      "Yes or No Yes\n"
     ]
    },
    {
     "name": "stdout",
     "output_type": "stream",
     "text": [
      "insurance_premium = 30000\n"
     ]
    }
   ],
   "source": [
    "'''\n",
    "Variables\n",
    "1. Gender\n",
    "2. Date Of Birth as DOB\n",
    "3. Smoking\n",
    "'''\n",
    "\n",
    "print('Welcome to Our Insurance Portal. For Your Insurance Premium, Kindly Provide Us Required Information')\n",
    "print(\"All entries are in capital letters\")\n",
    "\n",
    "M = 'Male'\n",
    "F = 'Female'\n",
    "\n",
    "print(\"Gender\")\n",
    "Gender = input('M or F')\n",
    "\n",
    "print('Date of Birth (in the range 1970 to 2000 only)')\n",
    "DOB = int(input('Year of Birth'))\n",
    "\n",
    "print(\"Do You Smoke? Please answer Yes or No\")\n",
    "Smoking = input('Yes or No')\n",
    "\n",
    "if Gender == M:\n",
    "    if DOB in range(1990, 2001):\n",
    "        if Smoking == 'Yes':\n",
    "            print(\"insurance_premium =\", 35000)\n",
    "        else:\n",
    "            print(\"insurance_premium =\", 31500)\n",
    "    else:\n",
    "        if Smoking == 'Yes':\n",
    "            print(\"insurance_premium =\", 40000)\n",
    "        else:\n",
    "            print(\"insurance_premium =\", 38000)\n",
    "else:\n",
    "    if DOB in range(1990, 2001):\n",
    "        if Smoking == 'Yes':\n",
    "            print(\"insurance_premium =\", 30000)\n",
    "        else:\n",
    "            print(\"insurance_premium =\", 27000)\n",
    "    else:\n",
    "        if Smoking == 'Yes':\n",
    "            print(\"insurance_premium =\", 35000)\n",
    "        else:\n",
    "            print(\"insurance_premium =\", 33250)\n"
   ]
  }
 ],
 "metadata": {
  "kernelspec": {
   "display_name": "Python 3 (ipykernel)",
   "language": "python",
   "name": "python3"
  },
  "language_info": {
   "codemirror_mode": {
    "name": "ipython",
    "version": 3
   },
   "file_extension": ".py",
   "mimetype": "text/x-python",
   "name": "python",
   "nbconvert_exporter": "python",
   "pygments_lexer": "ipython3",
   "version": "3.11.7"
  }
 },
 "nbformat": 4,
 "nbformat_minor": 5
}
