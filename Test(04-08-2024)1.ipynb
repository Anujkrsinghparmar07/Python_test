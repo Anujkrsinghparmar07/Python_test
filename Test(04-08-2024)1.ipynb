{
 "cells": [
  {
   "cell_type": "code",
   "execution_count": 30,
   "id": "cbf63127-5078-4ef7-9d20-69ae7d9a065a",
   "metadata": {},
   "outputs": [
    {
     "name": "stdout",
     "output_type": "stream",
     "text": [
      "Welcome to Our Insurance Portal. For Your Insurance Premium, Kindly Provide Us Required Information\n",
      "All entries are in capital letters\n",
      "Gender\n"
     ]
    },
    {
     "name": "stdin",
     "output_type": "stream",
     "text": [
      "M or F M\n"
     ]
    },
    {
     "name": "stdout",
     "output_type": "stream",
     "text": [
      "Date of Birth (in the range 1970 to 2000 only)\n"
     ]
    },
    {
     "name": "stdin",
     "output_type": "stream",
     "text": [
      "Year of Birth 1998\n"
     ]
    },
    {
     "name": "stdout",
     "output_type": "stream",
     "text": [
      "Do You Smoke? Please answer Yes or No\n"
     ]
    },
    {
     "name": "stdin",
     "output_type": "stream",
     "text": [
      "Yes or No Yes\n"
     ]
    },
    {
     "name": "stdout",
     "output_type": "stream",
     "text": [
      "insurance_premium = 30000\n"
     ]
    }
   ],
   "source": [
    "'''\n",
    "Variables\n",
    "1. Gender\n",
    "2. Date Of Birth as DOB\n",
    "3. Smoking\n",
    "'''\n",
    "\n",
    "print ('Welcome to Our Insurance Portal. For Your Insurance Premium, Kindly Provide us Required Information')\n",
    "print(\"All entries are in Capital letters\")   #10\n",
    "M='Male'\n",
    "f='Female'\n",
    "print(\"Gender\")\n",
    "Gender=input('M or F')\n",
    "print('Date of Birth in range 1970 and 2000 Only')   #15\n",
    "DOB=input('Year of Birth')\n",
    "print(\"Do You Smoke, Please answer YES or No\")\n",
    "Smoking=input('YES or No')\n",
    "\n",
    "                                                    #20\n",
    "\n",
    "if Gender==M:\n",
    "        if DOB in range (1990,2001):\n",
    "            if Smoking==YES:\n",
    "                print(\"insurance_premium=\",35000)   #25\n",
    "            else:\n",
    "                print(\"insurance_premium=\",31500)\n",
    "        else:\n",
    "            if Smoking==YES:\n",
    "                print(\"insurance_premium=\",40000)    #30\n",
    "            else:\n",
    "                print(\"insurance_premium=\",\"insurance_premium=\",38000)\n",
    "else:\n",
    "         if DOB in range (1990,2001):\n",
    "            if Smoking==YES:                     #35\n",
    "                print(\"insurance_premium=\",30000)\n",
    "            else:\n",
    "                print(\"insurance_premium=\",27000)\n",
    "         else:\n",
    "            if Smoking==YES:                       #40\n",
    "                print(\"insurance_premium=\",35000)\n",
    "            else:\n",
    "                print(\"insurance_premium=\",33250)"
   ]
  }
 ],
 "metadata": {
  "kernelspec": {
   "display_name": "Python 3 (ipykernel)",
   "language": "python",
   "name": "python3"
  },
  "language_info": {
   "codemirror_mode": {
    "name": "ipython",
    "version": 3
   },
   "file_extension": ".py",
   "mimetype": "text/x-python",
   "name": "python",
   "nbconvert_exporter": "python",
   "pygments_lexer": "ipython3",
   "version": "3.11.7"
  }
 },
 "nbformat": 4,
 "nbformat_minor": 5
}
